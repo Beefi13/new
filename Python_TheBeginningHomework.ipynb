{
  "cells": [
    {
      "cell_type": "markdown",
      "metadata": {
        "id": "AFcUU8PJfTI-"
      },
      "source": [
        "## Variables"
      ]
    },
    {
      "cell_type": "markdown",
      "metadata": {
        "id": "Zf0SC3VvfTI_"
      },
      "source": [
        "Create a variable with name \"x\" and a value of 10. Execute."
      ]
    },
    {
      "cell_type": "code",
      "execution_count": null,
      "metadata": {
        "id": "2dchwBhBfTI_"
      },
      "outputs": [],
      "source": [
        "x=10"
      ]
    },
    {
      "cell_type": "markdown",
      "metadata": {
        "id": "9uKuIrV_fTJA"
      },
      "source": [
        "Tell the computer to show you the value of that variable."
      ]
    },
    {
      "cell_type": "code",
      "execution_count": null,
      "metadata": {
        "colab": {
          "base_uri": "https://localhost:8080/"
        },
        "id": "o3wZxRIZfTJA",
        "outputId": "62b5b6d5-3681-4b0c-9963-d6d4cff9ee54"
      },
      "outputs": [
        {
          "output_type": "execute_result",
          "data": {
            "text/plain": [
              "10"
            ]
          },
          "metadata": {},
          "execution_count": 2
        }
      ],
      "source": [
        "x"
      ]
    },
    {
      "cell_type": "markdown",
      "metadata": {
        "id": "nCmdxy-1fTJB"
      },
      "source": [
        "On the same line, create four new variables: a,b,c, and d, that are equal to 10, 20, 30, and 40, respectively."
      ]
    },
    {
      "cell_type": "code",
      "execution_count": null,
      "metadata": {
        "id": "e1947n8vfTJB"
      },
      "outputs": [],
      "source": [
        "a = 10\n",
        "b = 20\n",
        "c = 30\n",
        "d = 40"
      ]
    },
    {
      "cell_type": "markdown",
      "metadata": {
        "id": "mPaBwW0nfTJB"
      },
      "source": [
        "Tell the computer to show you the value corresponding to the variable \"b\"."
      ]
    },
    {
      "cell_type": "code",
      "execution_count": null,
      "metadata": {
        "colab": {
          "base_uri": "https://localhost:8080/"
        },
        "id": "gHIKv7N0fTJB",
        "outputId": "63d2f4ae-095b-44f5-9338-a9edecb4e08f"
      },
      "outputs": [
        {
          "output_type": "execute_result",
          "data": {
            "text/plain": [
              "20"
            ]
          },
          "metadata": {},
          "execution_count": 4
        }
      ],
      "source": [
        "b"
      ]
    },
    {
      "cell_type": "markdown",
      "metadata": {
        "id": "oE-8KdRPfTJB"
      },
      "source": [
        "Do the same for \"d\"."
      ]
    },
    {
      "cell_type": "code",
      "execution_count": null,
      "metadata": {
        "colab": {
          "base_uri": "https://localhost:8080/"
        },
        "id": "sS9S8kWifTJB",
        "outputId": "a415e97d-b0dc-4572-d51d-ff59e5d9356f"
      },
      "outputs": [
        {
          "output_type": "execute_result",
          "data": {
            "text/plain": [
              "40"
            ]
          },
          "metadata": {},
          "execution_count": 5
        }
      ],
      "source": [
        "d"
      ]
    },
    {
      "cell_type": "markdown",
      "metadata": {
        "id": "0lKN_hPAfTJC"
      },
      "source": [
        "## Numbers and Boolean Values"
      ]
    },
    {
      "cell_type": "markdown",
      "metadata": {
        "id": "wQK1vqt8fTJC"
      },
      "source": [
        "Create a variable equal to \"True\"."
      ]
    },
    {
      "cell_type": "code",
      "execution_count": null,
      "metadata": {
        "id": "etFp0uUcfTJC"
      },
      "outputs": [],
      "source": [
        "t = True"
      ]
    },
    {
      "cell_type": "markdown",
      "metadata": {
        "id": "i1HrAluWfTJC"
      },
      "source": [
        "Check its type."
      ]
    },
    {
      "cell_type": "code",
      "execution_count": null,
      "metadata": {
        "colab": {
          "base_uri": "https://localhost:8080/"
        },
        "id": "Neyyj9w3fTJC",
        "outputId": "0ff6c897-03d7-48bd-f2ce-d575edc19d76"
      },
      "outputs": [
        {
          "output_type": "execute_result",
          "data": {
            "text/plain": [
              "bool"
            ]
          },
          "metadata": {},
          "execution_count": 12
        }
      ],
      "source": [
        "type(t)"
      ]
    },
    {
      "cell_type": "markdown",
      "metadata": {
        "id": "8zTWoDfOfTJC"
      },
      "source": [
        "Create a variable equal to 99."
      ]
    },
    {
      "cell_type": "code",
      "execution_count": null,
      "metadata": {
        "id": "3zeUYiO9fTJC"
      },
      "outputs": [],
      "source": [
        "n = 99"
      ]
    },
    {
      "cell_type": "markdown",
      "metadata": {
        "id": "zz1TvWalfTJC"
      },
      "source": [
        "Check its type."
      ]
    },
    {
      "cell_type": "code",
      "execution_count": null,
      "metadata": {
        "colab": {
          "base_uri": "https://localhost:8080/"
        },
        "id": "69HZOhgpfTJC",
        "outputId": "2f6169cc-e599-4150-f9a9-988b9b37844d"
      },
      "outputs": [
        {
          "output_type": "execute_result",
          "data": {
            "text/plain": [
              "int"
            ]
          },
          "metadata": {},
          "execution_count": 11
        }
      ],
      "source": [
        "type(n)"
      ]
    },
    {
      "cell_type": "markdown",
      "metadata": {
        "id": "q2hNW_uafTJC"
      },
      "source": [
        "Check the type of the value 0.99."
      ]
    },
    {
      "cell_type": "code",
      "execution_count": null,
      "metadata": {
        "id": "sEQD_DGgfTJC"
      },
      "outputs": [],
      "source": [
        "m = 0.99"
      ]
    },
    {
      "cell_type": "markdown",
      "metadata": {
        "id": "PBnEIMDhfTJC"
      },
      "source": [
        "Turn 99 into a *float*."
      ]
    },
    {
      "cell_type": "code",
      "execution_count": null,
      "metadata": {
        "colab": {
          "base_uri": "https://localhost:8080/"
        },
        "id": "G5PMwxBPfTJC",
        "outputId": "eb9d2751-7198-4098-ec9b-1f6eff2bb93c"
      },
      "outputs": [
        {
          "output_type": "execute_result",
          "data": {
            "text/plain": [
              "float"
            ]
          },
          "metadata": {},
          "execution_count": 14
        }
      ],
      "source": [
        "type(m)"
      ]
    },
    {
      "cell_type": "markdown",
      "metadata": {
        "id": "K367pna0fTJC"
      },
      "source": [
        "Turn 0.99 into an integer. What value did you get?"
      ]
    },
    {
      "cell_type": "code",
      "execution_count": null,
      "metadata": {
        "colab": {
          "base_uri": "https://localhost:8080/"
        },
        "id": "YMdzoQRXfTJD",
        "outputId": "e3718db3-fa52-4abe-eaa3-a8a323e25ddf"
      },
      "outputs": [
        {
          "output_type": "execute_result",
          "data": {
            "text/plain": [
              "int"
            ]
          },
          "metadata": {},
          "execution_count": 16
        }
      ],
      "source": [
        "m = 1\n",
        "type(m)"
      ]
    },
    {
      "cell_type": "markdown",
      "metadata": {
        "id": "UMj4qhFqfTJD"
      },
      "source": [
        "## Strings"
      ]
    },
    {
      "cell_type": "markdown",
      "metadata": {
        "id": "uLeznkwzfTJD"
      },
      "source": [
        "Assign the value of 100 to the variable \"m\"."
      ]
    },
    {
      "cell_type": "code",
      "execution_count": null,
      "metadata": {
        "id": "vHSKAzGzfTJD"
      },
      "outputs": [],
      "source": [
        "m = 100"
      ]
    },
    {
      "cell_type": "markdown",
      "metadata": {
        "id": "aKpmMjmUfTJD"
      },
      "source": [
        "With the help of the variable \"m\", write one line of code where the output after executuion would be *100 days*.\n"
      ]
    },
    {
      "cell_type": "code",
      "execution_count": null,
      "metadata": {
        "colab": {
          "base_uri": "https://localhost:8080/"
        },
        "id": "27NLHjvrfTJD",
        "outputId": "7af62bd3-6f9a-4ae1-dc18-749d39e68ebc"
      },
      "outputs": [
        {
          "output_type": "stream",
          "name": "stdout",
          "text": [
            "100 days\n"
          ]
        }
      ],
      "source": [
        "print(m, 'days')"
      ]
    },
    {
      "cell_type": "markdown",
      "metadata": {
        "id": "Nqr5w6IkfTJD"
      },
      "source": [
        "Produce an output equal to *It's cool, isn't it?*"
      ]
    },
    {
      "cell_type": "code",
      "execution_count": null,
      "metadata": {
        "colab": {
          "base_uri": "https://localhost:8080/"
        },
        "id": "Ly5BYZzpfTJD",
        "outputId": "2e2f5c27-8166-4c29-87b0-9bb097921733"
      },
      "outputs": [
        {
          "output_type": "stream",
          "name": "stdout",
          "text": [
            "It's cool, isn't it?\n"
          ]
        }
      ],
      "source": [
        "x = \"It's cool, isn't it?\"\n",
        "print(x)"
      ]
    },
    {
      "cell_type": "markdown",
      "metadata": {
        "id": "yCCjHPqefTJD"
      },
      "source": [
        "Include a plus sign in your line of code to produce *'Big Houses'*."
      ]
    },
    {
      "cell_type": "code",
      "execution_count": null,
      "metadata": {
        "colab": {
          "base_uri": "https://localhost:8080/"
        },
        "id": "KPXVIButfTJD",
        "outputId": "1146b8fa-c934-49e6-b2ab-37c59e582cc8"
      },
      "outputs": [
        {
          "output_type": "stream",
          "name": "stdout",
          "text": [
            "It's cool, isn't it? Big Houses\n"
          ]
        }
      ],
      "source": [
        "y = \"Big Houses\"\n",
        "print (x, y)"
      ]
    },
    {
      "cell_type": "markdown",
      "metadata": {
        "id": "KnHRz9n-fTJD"
      },
      "source": [
        "add 15 and 23."
      ]
    },
    {
      "cell_type": "code",
      "execution_count": null,
      "metadata": {
        "colab": {
          "base_uri": "https://localhost:8080/"
        },
        "id": "Pf3Faio-fTJD",
        "outputId": "2e4f4f05-09d4-4e6a-a34d-d8497bcf8dbc"
      },
      "outputs": [
        {
          "output_type": "execute_result",
          "data": {
            "text/plain": [
              "38"
            ]
          },
          "metadata": {},
          "execution_count": 22
        }
      ],
      "source": [
        "15 + 23"
      ]
    },
    {
      "cell_type": "markdown",
      "metadata": {
        "id": "sMvKereDfTJD"
      },
      "source": [
        "Subtract 50 from 26."
      ]
    },
    {
      "cell_type": "code",
      "execution_count": null,
      "metadata": {
        "colab": {
          "base_uri": "https://localhost:8080/"
        },
        "id": "IRpgaPwqfTJD",
        "outputId": "1d25b165-5720-43d8-93ee-0a69a63ac5c9"
      },
      "outputs": [
        {
          "output_type": "execute_result",
          "data": {
            "text/plain": [
              "24"
            ]
          },
          "metadata": {},
          "execution_count": 23
        }
      ],
      "source": [
        "50 - 26"
      ]
    },
    {
      "cell_type": "markdown",
      "metadata": {
        "id": "W_n7dBz5fTJH"
      },
      "source": [
        "Divide 20 by 4."
      ]
    },
    {
      "cell_type": "code",
      "execution_count": null,
      "metadata": {
        "colab": {
          "base_uri": "https://localhost:8080/"
        },
        "id": "bYhDHBbIfTJH",
        "outputId": "a784970d-45dc-474c-f455-f89e6cda88c1"
      },
      "outputs": [
        {
          "output_type": "execute_result",
          "data": {
            "text/plain": [
              "5.0"
            ]
          },
          "metadata": {},
          "execution_count": 24
        }
      ],
      "source": [
        "20 / 4"
      ]
    },
    {
      "cell_type": "markdown",
      "metadata": {
        "id": "qkjoB7T4fTJH"
      },
      "source": [
        "Divide 22 by 4."
      ]
    },
    {
      "cell_type": "code",
      "execution_count": null,
      "metadata": {
        "colab": {
          "base_uri": "https://localhost:8080/"
        },
        "id": "SQAKvlCufTJI",
        "outputId": "5c8abcde-142f-47cb-8171-188049cb1a9b"
      },
      "outputs": [
        {
          "output_type": "execute_result",
          "data": {
            "text/plain": [
              "5.5"
            ]
          },
          "metadata": {},
          "execution_count": 28
        }
      ],
      "source": [
        "22 / 4"
      ]
    },
    {
      "cell_type": "markdown",
      "metadata": {
        "id": "omO2QSs2fTJI"
      },
      "source": [
        "Obtain the remainder of the division of 22 by 4."
      ]
    },
    {
      "cell_type": "code",
      "execution_count": null,
      "metadata": {
        "colab": {
          "base_uri": "https://localhost:8080/"
        },
        "id": "1RRfbOP_fTJI",
        "outputId": "9bb79527-1996-45b0-9e33-327355ceba8f"
      },
      "outputs": [
        {
          "output_type": "execute_result",
          "data": {
            "text/plain": [
              "2"
            ]
          },
          "metadata": {},
          "execution_count": 27
        }
      ],
      "source": [
        "22 % 4"
      ]
    },
    {
      "cell_type": "markdown",
      "metadata": {
        "id": "iHUJOUvxfTJI"
      },
      "source": [
        "## The double-equality sign"
      ]
    },
    {
      "cell_type": "markdown",
      "metadata": {
        "id": "SZC_OetXfTJI"
      },
      "source": [
        "Demonstrate that 100 is not equal to 98."
      ]
    },
    {
      "cell_type": "code",
      "execution_count": null,
      "metadata": {
        "colab": {
          "base_uri": "https://localhost:8080/"
        },
        "id": "yM6c38xqfTJI",
        "outputId": "2fc2e0dd-ca03-4eee-f685-0005e1a31e0d"
      },
      "outputs": [
        {
          "output_type": "execute_result",
          "data": {
            "text/plain": [
              "False"
            ]
          },
          "metadata": {},
          "execution_count": 33
        }
      ],
      "source": [
        "100 == 98"
      ]
    },
    {
      "cell_type": "markdown",
      "metadata": {
        "id": "1gd3qN9kfTJI"
      },
      "source": [
        "## Reassign Values"
      ]
    },
    {
      "cell_type": "markdown",
      "metadata": {
        "id": "l_18F_8BfTJI"
      },
      "source": [
        "Assign the value of 14 to a variable p."
      ]
    },
    {
      "cell_type": "code",
      "execution_count": null,
      "metadata": {
        "id": "rxVAtf0IfTJI"
      },
      "outputs": [],
      "source": [
        "p = 14"
      ]
    },
    {
      "cell_type": "markdown",
      "metadata": {
        "id": "3d5g4wchfTJI"
      },
      "source": [
        "Calculate p + 10."
      ]
    },
    {
      "cell_type": "code",
      "execution_count": null,
      "metadata": {
        "colab": {
          "base_uri": "https://localhost:8080/"
        },
        "id": "wDBvZDEafTJI",
        "outputId": "83e430b4-8921-4f9b-849e-95b5dc7918fe"
      },
      "outputs": [
        {
          "output_type": "execute_result",
          "data": {
            "text/plain": [
              "24"
            ]
          },
          "metadata": {},
          "execution_count": 35
        }
      ],
      "source": [
        "p + 10"
      ]
    },
    {
      "cell_type": "markdown",
      "metadata": {
        "id": "I4uVkG1hfTJI"
      },
      "source": [
        "Now, assign 30 to the variable p."
      ]
    },
    {
      "cell_type": "code",
      "execution_count": null,
      "metadata": {
        "id": "_PNUAisXfTJJ"
      },
      "outputs": [],
      "source": [
        "p = 30"
      ]
    },
    {
      "cell_type": "markdown",
      "metadata": {
        "id": "B7PY6ALxfTJJ"
      },
      "source": [
        "Calculate p + 10."
      ]
    },
    {
      "cell_type": "code",
      "execution_count": null,
      "metadata": {
        "colab": {
          "base_uri": "https://localhost:8080/"
        },
        "id": "-NhQozLBfTJJ",
        "outputId": "fbd9ecc0-33ad-4699-9a4c-b896fb5af0c3"
      },
      "outputs": [
        {
          "output_type": "execute_result",
          "data": {
            "text/plain": [
              "40"
            ]
          },
          "metadata": {},
          "execution_count": 37
        }
      ],
      "source": [
        "p + 10"
      ]
    },
    {
      "cell_type": "markdown",
      "metadata": {
        "id": "J9duaAgmfTJJ"
      },
      "source": [
        "## Indexing Elements"
      ]
    },
    {
      "cell_type": "markdown",
      "metadata": {
        "id": "pYRD_trhfTJJ"
      },
      "source": [
        "Extract the letter 'B' from \"Bingo!\"."
      ]
    },
    {
      "cell_type": "code",
      "execution_count": null,
      "metadata": {
        "colab": {
          "base_uri": "https://localhost:8080/",
          "height": 35
        },
        "id": "oXPUxINWfTJJ",
        "outputId": "7e0b7517-98e4-45d1-f223-ff25e9f74f7c"
      },
      "outputs": [
        {
          "output_type": "execute_result",
          "data": {
            "text/plain": [
              "'Bingo!'"
            ],
            "application/vnd.google.colaboratory.intrinsic+json": {
              "type": "string"
            }
          },
          "metadata": {},
          "execution_count": 38
        }
      ],
      "source": [
        "x = \"Bingo!\"\n",
        "x"
      ]
    },
    {
      "cell_type": "code",
      "execution_count": null,
      "metadata": {
        "colab": {
          "base_uri": "https://localhost:8080/",
          "height": 35
        },
        "id": "2G8p15QHfTJJ",
        "outputId": "d87dcc19-3740-4b7c-b78e-da57d1b94cf6"
      },
      "outputs": [
        {
          "output_type": "execute_result",
          "data": {
            "text/plain": [
              "'B'"
            ],
            "application/vnd.google.colaboratory.intrinsic+json": {
              "type": "string"
            }
          },
          "metadata": {},
          "execution_count": 39
        }
      ],
      "source": [
        "x[0]"
      ]
    },
    {
      "cell_type": "markdown",
      "metadata": {
        "id": "6FqglE8wfTJJ"
      },
      "source": [
        "Extract the letter \"u\" from \"Constitution\"."
      ]
    },
    {
      "cell_type": "markdown",
      "metadata": {
        "id": "IYX9nQ-SfTJJ"
      },
      "source": [
        "Verify that 25 is smaller than 30."
      ]
    },
    {
      "cell_type": "code",
      "execution_count": null,
      "metadata": {
        "colab": {
          "base_uri": "https://localhost:8080/"
        },
        "id": "3SlzyHeDfTJJ",
        "outputId": "1fce2ea3-8cc1-48b3-aa07-c9b07cd59c13"
      },
      "outputs": [
        {
          "output_type": "execute_result",
          "data": {
            "text/plain": [
              "True"
            ]
          },
          "metadata": {},
          "execution_count": 41
        }
      ],
      "source": [
        "25 < 30"
      ]
    },
    {
      "cell_type": "markdown",
      "metadata": {
        "id": "Ap2oyku2fTJK"
      },
      "source": [
        "Verify that 5 multiplied by 3 is less than or equal to 5 to the power of 3."
      ]
    },
    {
      "cell_type": "code",
      "execution_count": null,
      "metadata": {
        "colab": {
          "base_uri": "https://localhost:8080/"
        },
        "id": "Y0VeQRzwfTJK",
        "outputId": "4daf60b0-8284-4fb1-8d30-26ff51c34257"
      },
      "outputs": [
        {
          "output_type": "execute_result",
          "data": {
            "text/plain": [
              "True"
            ]
          },
          "metadata": {},
          "execution_count": 42
        }
      ],
      "source": [
        "5 * 3 <= 5 ** 3"
      ]
    },
    {
      "cell_type": "markdown",
      "metadata": {
        "id": "ipXyFYFXfTJK"
      },
      "source": [
        "Verify that 100 is equal to 10 square."
      ]
    },
    {
      "cell_type": "code",
      "execution_count": null,
      "metadata": {
        "colab": {
          "base_uri": "https://localhost:8080/"
        },
        "id": "wLtmKfQzfTJK",
        "outputId": "acecb69b-4aa0-4420-be6c-e13ea6920e0d"
      },
      "outputs": [
        {
          "output_type": "execute_result",
          "data": {
            "text/plain": [
              "True"
            ]
          },
          "metadata": {},
          "execution_count": 43
        }
      ],
      "source": [
        " 100 == 10**2"
      ]
    },
    {
      "cell_type": "markdown",
      "metadata": {
        "id": "-dKbke3jfTJK"
      },
      "source": [
        "Check whether the following code is True or False."
      ]
    },
    {
      "cell_type": "markdown",
      "metadata": {
        "id": "NCzhyjVlfTJK"
      },
      "source": [
        "Create a two-line code that prints \"The condition has been satisfied\" if 5 is greater than 2."
      ]
    },
    {
      "cell_type": "code",
      "execution_count": null,
      "metadata": {
        "colab": {
          "base_uri": "https://localhost:8080/"
        },
        "id": "kq8zrB3sfTJK",
        "outputId": "f32fe8f8-23f8-4b3c-e701-2bc102233394"
      },
      "outputs": [
        {
          "output_type": "stream",
          "name": "stdout",
          "text": [
            "The condition has been satisfied\n"
          ]
        }
      ],
      "source": [
        "if 5>2:\n",
        "    print('The condition has been satisfied')"
      ]
    },
    {
      "cell_type": "markdown",
      "metadata": {
        "id": "hYwnM4H_fTJK"
      },
      "source": [
        "Assign 10 to the variable x and 25 to the variable y. In the same cell, create 2 conditional statements. Let the first one print \"Both conditions are correct\" if x is greater then 3 and y is greater than 13. Let the second one print \"At least one of the conditions is false\" if x is less than or equal to 3 or y is less than or equal to 13."
      ]
    },
    {
      "cell_type": "code",
      "execution_count": null,
      "metadata": {
        "colab": {
          "base_uri": "https://localhost:8080/"
        },
        "id": "8aMcfWshfTJK",
        "outputId": "34425ee8-ac12-4a2a-bb1c-dc9357603777"
      },
      "outputs": [
        {
          "output_type": "stream",
          "name": "stdout",
          "text": [
            "Both conditions are correct\n"
          ]
        }
      ],
      "source": [
        "x = 10\n",
        "y = 25\n",
        "\n",
        "if x > 3 and y > 13:\n",
        "    print(\"Both conditions are correct\")\n",
        "elif x <= 3 or y <= 13:\n",
        "    print(\"At least one of the conditions is false\")"
      ]
    },
    {
      "cell_type": "markdown",
      "metadata": {
        "id": "KxupJnTRfTJK"
      },
      "source": [
        "## Creating a Function"
      ]
    },
    {
      "cell_type": "raw",
      "metadata": {
        "id": "WJPmVFzwfTJK"
      },
      "source": [
        "Define a function that returns a value equal to its argument multiplied by 2."
      ]
    },
    {
      "cell_type": "code",
      "execution_count": null,
      "metadata": {
        "colab": {
          "base_uri": "https://localhost:8080/"
        },
        "id": "P6sbGXS_fTJK",
        "outputId": "5dc988e4-31de-43c4-bf35-3ac5ba92a9c0"
      },
      "outputs": [
        {
          "output_type": "execute_result",
          "data": {
            "text/plain": [
              "10"
            ]
          },
          "metadata": {},
          "execution_count": 46
        }
      ],
      "source": [
        "def fun(argument):\n",
        "    return argument * 2\n",
        "\n",
        "fun(5)"
      ]
    },
    {
      "cell_type": "markdown",
      "metadata": {
        "id": "KuQkO8GLfTJL"
      },
      "source": [
        "## Combining Conditional Statements and Functions"
      ]
    },
    {
      "cell_type": "markdown",
      "metadata": {
        "id": "qEQrTJWdfTJL"
      },
      "source": [
        "Define a function, called **yourOtherFunc**, with two arguments. If the first one is greater than the second one, let it print \"Greater\". If the second one is greater, it should print \"Less\". Let it print \"Equal\" if the two values are the same number."
      ]
    },
    {
      "cell_type": "code",
      "execution_count": null,
      "metadata": {
        "id": "OCqMZ8rKfTJL"
      },
      "outputs": [],
      "source": [
        "def new(a, b):\n",
        "  if a < b:\n",
        "    print(\"Less\")\n",
        "  elif a > b:\n",
        "    print(\"Greate\")\n",
        "  else:\n",
        "    print(\"Equal\")"
      ]
    },
    {
      "cell_type": "code",
      "execution_count": null,
      "metadata": {
        "colab": {
          "base_uri": "https://localhost:8080/"
        },
        "id": "hu47WQ0PfTJL",
        "outputId": "6df48ddc-e8ac-413c-dbbb-0224b08b2d21"
      },
      "outputs": [
        {
          "output_type": "stream",
          "name": "stdout",
          "text": [
            "Greate\n"
          ]
        }
      ],
      "source": [
        "new(2,1)"
      ]
    },
    {
      "cell_type": "markdown",
      "metadata": {
        "id": "4eTcvpv1fTJL"
      },
      "source": [
        "Obtain the minimum number among the values 25, 65, 890, and 15."
      ]
    },
    {
      "cell_type": "code",
      "execution_count": null,
      "metadata": {
        "colab": {
          "base_uri": "https://localhost:8080/"
        },
        "id": "ZM-OC5rifTJL",
        "outputId": "d49911a2-711c-4fe8-d2f7-f5ec1d0e1068"
      },
      "outputs": [
        {
          "output_type": "execute_result",
          "data": {
            "text/plain": [
              "15"
            ]
          },
          "metadata": {},
          "execution_count": 8
        }
      ],
      "source": [
        "X = [25, 65, 890, 15]\n",
        "min(X)"
      ]
    },
    {
      "cell_type": "markdown",
      "metadata": {
        "id": "hJ44T2LYfTJL"
      },
      "source": [
        "Find the absolute value of -100"
      ]
    },
    {
      "cell_type": "code",
      "execution_count": null,
      "metadata": {
        "colab": {
          "base_uri": "https://localhost:8080/"
        },
        "id": "D3i4TAy5fTJL",
        "outputId": "f82b9f26-55b1-41b2-ee6c-093884a6c62f"
      },
      "outputs": [
        {
          "output_type": "execute_result",
          "data": {
            "text/plain": [
              "100"
            ]
          },
          "metadata": {},
          "execution_count": 9
        }
      ],
      "source": [
        "abs(-100)"
      ]
    },
    {
      "cell_type": "markdown",
      "metadata": {
        "id": "GYeIJow0fTJL"
      },
      "source": [
        "Round the value of 55.5. Did you obtain 56.0?"
      ]
    },
    {
      "cell_type": "code",
      "execution_count": null,
      "metadata": {
        "colab": {
          "base_uri": "https://localhost:8080/"
        },
        "id": "4H78s_jYfTJL",
        "outputId": "d39c6798-0a87-48eb-99ce-57fda731b4ab"
      },
      "outputs": [
        {
          "output_type": "stream",
          "name": "stdout",
          "text": [
            "56.0\n"
          ]
        }
      ],
      "source": [
        "print(round(55.5,0))"
      ]
    },
    {
      "cell_type": "markdown",
      "metadata": {
        "id": "6Jnem8BQfTJL"
      },
      "source": [
        "Round 35.56789 to the third digit."
      ]
    },
    {
      "cell_type": "code",
      "execution_count": null,
      "metadata": {
        "colab": {
          "base_uri": "https://localhost:8080/"
        },
        "id": "dTBdqBvIfTJL",
        "outputId": "3247ac46-397b-47db-a1a5-0d6c56783fba"
      },
      "outputs": [
        {
          "output_type": "stream",
          "name": "stdout",
          "text": [
            "35.568\n"
          ]
        }
      ],
      "source": [
        "print(round(35.56789,3))"
      ]
    },
    {
      "cell_type": "markdown",
      "metadata": {
        "id": "n5rEV6iCfTJL"
      },
      "source": [
        "Find the sum of all elements in the provided list, called \"Numbers\"."
      ]
    },
    {
      "cell_type": "code",
      "execution_count": null,
      "metadata": {
        "id": "enm51bsffTJL"
      },
      "outputs": [],
      "source": [
        "numbers = {1, 2, 3, 4, 5}"
      ]
    },
    {
      "cell_type": "code",
      "execution_count": null,
      "metadata": {
        "colab": {
          "base_uri": "https://localhost:8080/"
        },
        "id": "wXKTilp-fTJL",
        "outputId": "5b77db83-8bdb-4bbe-9ee2-22eedff25525"
      },
      "outputs": [
        {
          "output_type": "execute_result",
          "data": {
            "text/plain": [
              "15"
            ]
          },
          "metadata": {},
          "execution_count": 15
        }
      ],
      "source": [
        "sum(numbers)"
      ]
    },
    {
      "cell_type": "markdown",
      "metadata": {
        "id": "6AqlN3iXfTJL"
      },
      "source": [
        "How many characters are there in the word \"Elephant\"?"
      ]
    },
    {
      "cell_type": "code",
      "execution_count": null,
      "metadata": {
        "colab": {
          "base_uri": "https://localhost:8080/"
        },
        "id": "vIFDd5w0fTJL",
        "outputId": "3e364553-3889-44b9-d92b-afd99783791e"
      },
      "outputs": [
        {
          "output_type": "execute_result",
          "data": {
            "text/plain": [
              "8"
            ]
          },
          "metadata": {},
          "execution_count": 17
        }
      ],
      "source": [
        "len(\"Elephant\")"
      ]
    },
    {
      "cell_type": "markdown",
      "metadata": {
        "id": "pNbB6v2yfTJM"
      },
      "source": [
        "## Lists"
      ]
    },
    {
      "cell_type": "markdown",
      "metadata": {
        "id": "q20V-VH8fTJM"
      },
      "source": [
        "Create a list, called \"Numbers\". Let it contain the numbers 10, 25, 40, and 50."
      ]
    },
    {
      "cell_type": "code",
      "execution_count": null,
      "metadata": {
        "id": "F4BzuQrvfTJM"
      },
      "outputs": [],
      "source": [
        "numbers = [10, 25, 40, 50]"
      ]
    },
    {
      "cell_type": "markdown",
      "metadata": {
        "id": "ljOYBUykfTJM"
      },
      "source": [
        "Print the element at index 2 from the list."
      ]
    },
    {
      "cell_type": "code",
      "execution_count": null,
      "metadata": {
        "colab": {
          "base_uri": "https://localhost:8080/"
        },
        "id": "FMsM7_-AfTJM",
        "outputId": "2a0310d9-324f-4dfd-a44f-329d2809ce08"
      },
      "outputs": [
        {
          "output_type": "execute_result",
          "data": {
            "text/plain": [
              "40"
            ]
          },
          "metadata": {},
          "execution_count": 8
        }
      ],
      "source": [
        "numbers[2]"
      ]
    },
    {
      "cell_type": "markdown",
      "metadata": {
        "id": "2fYWc6jMfTJM"
      },
      "source": [
        "Print the 0th element."
      ]
    },
    {
      "cell_type": "code",
      "execution_count": null,
      "metadata": {
        "id": "hRfb7uYlfTJM",
        "colab": {
          "base_uri": "https://localhost:8080/"
        },
        "outputId": "8472edf8-dc48-4d9a-a2ec-682802a5f210"
      },
      "outputs": [
        {
          "output_type": "execute_result",
          "data": {
            "text/plain": [
              "10"
            ]
          },
          "metadata": {},
          "execution_count": 7
        }
      ],
      "source": [
        "numbers[0]"
      ]
    },
    {
      "cell_type": "markdown",
      "metadata": {
        "id": "O_mheGPRfTJM"
      },
      "source": [
        "Delete the number 25 from the Numbers list."
      ]
    },
    {
      "cell_type": "code",
      "execution_count": null,
      "metadata": {
        "id": "x0Zq_N1yfTJM",
        "colab": {
          "base_uri": "https://localhost:8080/"
        },
        "outputId": "316a99f5-9ace-45e6-c4ca-7dde32ad5ba7"
      },
      "outputs": [
        {
          "output_type": "execute_result",
          "data": {
            "text/plain": [
              "[10, 40, 50]"
            ]
          },
          "metadata": {},
          "execution_count": 15
        }
      ],
      "source": [
        "numbers.remove(25)\n",
        "numbers"
      ]
    },
    {
      "cell_type": "markdown",
      "metadata": {
        "id": "mvkUTzvcfTJM"
      },
      "source": [
        "Append the number 100 to the Numbers list."
      ]
    },
    {
      "cell_type": "code",
      "execution_count": null,
      "metadata": {
        "id": "6kxZKvysfTJM",
        "colab": {
          "base_uri": "https://localhost:8080/"
        },
        "outputId": "77f6be92-4b43-4104-fc45-99580b0377aa"
      },
      "outputs": [
        {
          "output_type": "execute_result",
          "data": {
            "text/plain": [
              "[10, 40, 50, 100]"
            ]
          },
          "metadata": {},
          "execution_count": 17
        }
      ],
      "source": [
        "numbers.insert(3,100)\n",
        "numbers"
      ]
    },
    {
      "cell_type": "markdown",
      "metadata": {
        "id": "1ljYM1NtfTJM"
      },
      "source": [
        "Print a statement, saying \"The fourth element of the Numbers list is:\" and then designate the value of the fourth element. Use a trailing comma."
      ]
    },
    {
      "cell_type": "code",
      "execution_count": null,
      "metadata": {
        "id": "Y8NQSSGAfTJM",
        "colab": {
          "base_uri": "https://localhost:8080/"
        },
        "outputId": "b7a0451c-0352-430b-cb76-961bb9934b92"
      },
      "outputs": [
        {
          "output_type": "stream",
          "name": "stdout",
          "text": [
            "The fourth element of the Numbers list is 100\n"
          ]
        }
      ],
      "source": [
        "print ('The fourth element of the Numbers list is', numbers[3])"
      ]
    },
    {
      "cell_type": "markdown",
      "metadata": {
        "id": "L8W6u94mfTJM"
      },
      "source": [
        "How many elements are there in the Numbers list?"
      ]
    },
    {
      "cell_type": "code",
      "execution_count": null,
      "metadata": {
        "id": "LzAre8LNfTJM",
        "colab": {
          "base_uri": "https://localhost:8080/"
        },
        "outputId": "d6d7169f-9023-403b-fce6-981d2322f5ac"
      },
      "outputs": [
        {
          "output_type": "execute_result",
          "data": {
            "text/plain": [
              "4"
            ]
          },
          "metadata": {},
          "execution_count": 24
        }
      ],
      "source": [
        "len(numbers)"
      ]
    },
    {
      "cell_type": "markdown",
      "metadata": {
        "id": "Yaj_9WH8fTJM"
      },
      "source": [
        "## List Slicing"
      ]
    },
    {
      "cell_type": "code",
      "execution_count": null,
      "metadata": {
        "id": "eJgOGBOofTJM"
      },
      "outputs": [],
      "source": [
        "Numbers = [15, 40, 50, 100, 115, 140]"
      ]
    },
    {
      "cell_type": "markdown",
      "metadata": {
        "id": "cBVLDatRfTJM"
      },
      "source": [
        "Using list slicing, obtain the numbers 100 and 115."
      ]
    },
    {
      "cell_type": "code",
      "execution_count": null,
      "metadata": {
        "id": "0g1mNEV7fTJM",
        "colab": {
          "base_uri": "https://localhost:8080/"
        },
        "outputId": "f84a4e02-cf2c-4742-82bd-011ac27adc10"
      },
      "outputs": [
        {
          "output_type": "execute_result",
          "data": {
            "text/plain": [
              "[100, 115]"
            ]
          },
          "metadata": {},
          "execution_count": 2
        }
      ],
      "source": [
        "# slicing is via      :\n",
        "Numbers[3:5]"
      ]
    },
    {
      "cell_type": "markdown",
      "metadata": {
        "id": "cxcTXhROfTJN"
      },
      "source": [
        "Using slicing, extract the first four elements from the list."
      ]
    },
    {
      "cell_type": "code",
      "execution_count": null,
      "metadata": {
        "id": "gPuUbHlXfTJN",
        "colab": {
          "base_uri": "https://localhost:8080/"
        },
        "outputId": "c9af3147-108d-4b4f-cba5-d7e272a48e8e"
      },
      "outputs": [
        {
          "output_type": "execute_result",
          "data": {
            "text/plain": [
              "[15, 40, 50, 100]"
            ]
          },
          "metadata": {},
          "execution_count": 4
        }
      ],
      "source": [
        "Numbers[:4]"
      ]
    },
    {
      "cell_type": "markdown",
      "metadata": {
        "id": "TF8uz3CtfTJN"
      },
      "source": [
        "Using slicing, extract the last 4 elements from the list."
      ]
    },
    {
      "cell_type": "code",
      "execution_count": null,
      "metadata": {
        "id": "Wz1CZb2ufTJN",
        "colab": {
          "base_uri": "https://localhost:8080/"
        },
        "outputId": "2116d3fe-ff3a-4876-b24e-e17f2492aa93"
      },
      "outputs": [
        {
          "output_type": "execute_result",
          "data": {
            "text/plain": [
              "[50, 100, 115, 140]"
            ]
          },
          "metadata": {},
          "execution_count": 6
        }
      ],
      "source": [
        "Numbers[2:]"
      ]
    },
    {
      "cell_type": "markdown",
      "metadata": {
        "id": "C5KkstT0fTJN"
      },
      "source": [
        "Create a list, called \"Two_Numbers\". Let its elements be the values 1 and 2. Then, create a new one, named \"All_Numbers\", that will containt both the \"Numbers\" and the \"Two_Numbers\" lists."
      ]
    },
    {
      "cell_type": "code",
      "execution_count": null,
      "metadata": {
        "id": "SsEMPid-fTJN",
        "colab": {
          "base_uri": "https://localhost:8080/"
        },
        "outputId": "7fecbd8b-78ba-47f7-b5bc-bd00ad060fba"
      },
      "outputs": [
        {
          "output_type": "execute_result",
          "data": {
            "text/plain": [
              "[15, 40, 50, 100, 115, 140, 1, 2]"
            ]
          },
          "metadata": {},
          "execution_count": 7
        }
      ],
      "source": [
        "Two_Numbers = [1, 2]\n",
        "All_Numbers = (Numbers + Two_Numbers)\n",
        "All_Numbers"
      ]
    },
    {
      "cell_type": "markdown",
      "metadata": {
        "id": "DovvwxWafTJN"
      },
      "source": [
        "Sort all the numbers in the \"Numbers\" list from the largest to the smallest."
      ]
    },
    {
      "cell_type": "code",
      "execution_count": null,
      "metadata": {
        "id": "poXjdhh1fTJN",
        "colab": {
          "base_uri": "https://localhost:8080/"
        },
        "outputId": "4fb695b4-7c73-4595-951d-b81eb099745b"
      },
      "outputs": [
        {
          "output_type": "execute_result",
          "data": {
            "text/plain": [
              "[140, 115, 100, 50, 40, 15]"
            ]
          },
          "metadata": {},
          "execution_count": 14
        }
      ],
      "source": [
        "Numbers.sort(reverse=True)\n",
        "Numbers"
      ]
    },
    {
      "cell_type": "markdown",
      "metadata": {
        "id": "Va5lA_PmfTJN"
      },
      "source": [
        "## Tuples"
      ]
    },
    {
      "cell_type": "markdown",
      "metadata": {
        "collapsed": true,
        "id": "lK4njOmVfTJN"
      },
      "source": [
        "Create a tuple, called \"Cars\", with elements \"BMW\", \"Dodge\", and \"Ford\"."
      ]
    },
    {
      "cell_type": "code",
      "execution_count": null,
      "metadata": {
        "id": "_Hca-oMafTJN",
        "colab": {
          "base_uri": "https://localhost:8080/"
        },
        "outputId": "12f8ad70-2cac-48a4-94dd-8b1394e71762"
      },
      "outputs": [
        {
          "output_type": "execute_result",
          "data": {
            "text/plain": [
              "('BMW', 'Dodge', 'Ford')"
            ]
          },
          "metadata": {},
          "execution_count": 26
        }
      ],
      "source": [
        "Cars = \"BMW\", \"Dodge\", \"Ford\"\n",
        "Cars"
      ]
    },
    {
      "cell_type": "markdown",
      "metadata": {
        "id": "cUtRSAPRfTJN"
      },
      "source": [
        "Access the second element of this tuple."
      ]
    },
    {
      "cell_type": "code",
      "execution_count": null,
      "metadata": {
        "id": "y508HtO_fTJN",
        "colab": {
          "base_uri": "https://localhost:8080/",
          "height": 35
        },
        "outputId": "116c679f-686d-4522-c64e-5bf5fef61bff"
      },
      "outputs": [
        {
          "output_type": "execute_result",
          "data": {
            "text/plain": [
              "'Ford'"
            ],
            "application/vnd.google.colaboratory.intrinsic+json": {
              "type": "string"
            }
          },
          "metadata": {},
          "execution_count": 28
        }
      ],
      "source": [
        "Cars[2]"
      ]
    },
    {
      "cell_type": "markdown",
      "metadata": {
        "id": "N8oN_hmlfTJN"
      },
      "source": [
        "Create a function that takes as arguments the two values of a rectangle and then returns the Area and the Perimeter of the rectangle.\n",
        "Call the function with arguments 2 and 10 to verify it worked correctly."
      ]
    },
    {
      "cell_type": "code",
      "execution_count": null,
      "metadata": {
        "id": "LW9hdYgPfTJN"
      },
      "outputs": [],
      "source": [
        "def geo(l, w):\n",
        "  area = l * w\n",
        "  perimeter = (l + w) * 2\n",
        "  return area, perimeter"
      ]
    },
    {
      "cell_type": "code",
      "execution_count": null,
      "metadata": {
        "id": "6qx6NWIJfTJN",
        "colab": {
          "base_uri": "https://localhost:8080/"
        },
        "outputId": "d62cf6d0-9463-4a4b-9bcb-0de10dd87a2d"
      },
      "outputs": [
        {
          "output_type": "execute_result",
          "data": {
            "text/plain": [
              "(20, 24)"
            ]
          },
          "metadata": {},
          "execution_count": 16
        }
      ],
      "source": [
        "geo(2, 10)"
      ]
    },
    {
      "cell_type": "markdown",
      "metadata": {
        "id": "duw6JsInfTJN"
      },
      "source": [
        "## Dictionaries"
      ]
    },
    {
      "cell_type": "markdown",
      "metadata": {
        "id": "C8d_vfcafTJN"
      },
      "source": [
        "This is the menu of a close-by restaurant:"
      ]
    },
    {
      "cell_type": "code",
      "execution_count": null,
      "metadata": {
        "id": "d5avc7D5fTJN"
      },
      "outputs": [],
      "source": [
        "Menu = {'meal_1':'Shaverma', 'meal_2':'Pelmeni', 'meal_3':'Borsch', 'meal_4':'Kebab'}"
      ]
    },
    {
      "cell_type": "markdown",
      "metadata": {
        "id": "tWYow3JUfTJN"
      },
      "source": [
        "What is the second meal in the list?"
      ]
    },
    {
      "cell_type": "code",
      "execution_count": null,
      "metadata": {
        "id": "IJ0BGapRfTJN",
        "colab": {
          "base_uri": "https://localhost:8080/",
          "height": 35
        },
        "outputId": "eea31268-7ff3-46a3-fbd0-c3fe86773a53"
      },
      "outputs": [
        {
          "output_type": "execute_result",
          "data": {
            "text/plain": [
              "'Pelmeni'"
            ],
            "application/vnd.google.colaboratory.intrinsic+json": {
              "type": "string"
            }
          },
          "metadata": {},
          "execution_count": 24
        }
      ],
      "source": [
        "Menu['meal_2']"
      ]
    },
    {
      "cell_type": "markdown",
      "metadata": {
        "id": "Fxmy0fqSfTJN"
      },
      "source": [
        "Add a new meal - \"Soup\"."
      ]
    },
    {
      "cell_type": "code",
      "execution_count": null,
      "metadata": {
        "id": "-rOl6F6VfTJN",
        "colab": {
          "base_uri": "https://localhost:8080/"
        },
        "outputId": "91360569-3443-4cde-c02c-14e039d1880c"
      },
      "outputs": [
        {
          "output_type": "execute_result",
          "data": {
            "text/plain": [
              "{'meal_1': 'Shaverma',\n",
              " 'meal_2': 'Pelmeni',\n",
              " 'meal_3': 'Borsch',\n",
              " 'meal_4': 'Kebab',\n",
              " 'meal_5': 'Soup'}"
            ]
          },
          "metadata": {},
          "execution_count": 27
        }
      ],
      "source": [
        "Menu['meal_5'] = 'Soup'\n",
        "Menu"
      ]
    },
    {
      "cell_type": "markdown",
      "metadata": {
        "id": "NZYkyiNjfTJN"
      },
      "source": [
        "Replace the Hamburger with a Cheeseburger."
      ]
    },
    {
      "cell_type": "code",
      "execution_count": null,
      "metadata": {
        "id": "GPweRIgZfTJO",
        "colab": {
          "base_uri": "https://localhost:8080/"
        },
        "outputId": "c634a4e4-add9-4f08-8ed2-d7f9fdec5ec8"
      },
      "outputs": [
        {
          "output_type": "execute_result",
          "data": {
            "text/plain": [
              "{'meal_1': 'Cheeseburger',\n",
              " 'meal_2': 'Pelmeni',\n",
              " 'meal_3': 'Borsch',\n",
              " 'meal_4': 'Kebab',\n",
              " 'meal_5': 'Soup'}"
            ]
          },
          "metadata": {},
          "execution_count": 28
        }
      ],
      "source": [
        "#we don't have Hamburger, so I will replace Shaverma\n",
        "Menu.update ({'meal_1' : 'Cheeseburger'})\n",
        "Menu"
      ]
    },
    {
      "cell_type": "markdown",
      "metadata": {
        "id": "ETNVMvnlfTJO"
      },
      "source": [
        "## For Loops"
      ]
    },
    {
      "cell_type": "markdown",
      "metadata": {
        "id": "w8NPoMH9fTJO"
      },
      "source": [
        "Create a For loop that prints every digit on a new line."
      ]
    },
    {
      "cell_type": "code",
      "execution_count": null,
      "metadata": {
        "id": "PK4fVPwMfTJO"
      },
      "outputs": [],
      "source": [
        "digits = [0,1,2,3,4,5,6,7,8,9]"
      ]
    },
    {
      "cell_type": "code",
      "execution_count": null,
      "metadata": {
        "id": "pgv_MtiMfTJO",
        "outputId": "e27ca24a-ce0e-4962-d39c-7d55714b2cb9",
        "colab": {
          "base_uri": "https://localhost:8080/"
        }
      },
      "outputs": [
        {
          "output_type": "stream",
          "name": "stdout",
          "text": [
            "0\n",
            "1\n",
            "2\n",
            "3\n",
            "4\n",
            "5\n",
            "6\n",
            "7\n",
            "8\n",
            "9\n"
          ]
        }
      ],
      "source": [
        "for n in digits:\n",
        "    print(n)"
      ]
    },
    {
      "cell_type": "markdown",
      "metadata": {
        "id": "BSOu1k7_fTJO"
      },
      "source": [
        "Adjust the code, so the digits are all printed on the same line."
      ]
    },
    {
      "cell_type": "code",
      "execution_count": null,
      "metadata": {
        "id": "VJAh-t1vfTJO",
        "colab": {
          "base_uri": "https://localhost:8080/"
        },
        "outputId": "97325cf1-0425-4537-a107-930bfcd5e417"
      },
      "outputs": [
        {
          "output_type": "stream",
          "name": "stdout",
          "text": [
            "0 1 2 3 4 5 6 7 8 9 "
          ]
        }
      ],
      "source": [
        "for n in digits:\n",
        "    print(n, end = ' ')"
      ]
    },
    {
      "cell_type": "markdown",
      "metadata": {
        "id": "FoA4o1hefTJO"
      },
      "source": [
        "## While Loops and Incrementing"
      ]
    },
    {
      "cell_type": "markdown",
      "metadata": {
        "id": "xVYyIToYfTJO"
      },
      "source": [
        "Create a while loop that will print all odd numbers from 0 to 30 on the same row.\n"
      ]
    },
    {
      "cell_type": "code",
      "execution_count": null,
      "metadata": {
        "id": "fS_CHLAdfTJO",
        "colab": {
          "base_uri": "https://localhost:8080/"
        },
        "outputId": "8353b488-b11f-46fc-a0f5-f5da8d4ab333"
      },
      "outputs": [
        {
          "output_type": "stream",
          "name": "stdout",
          "text": [
            "1 3 5 7 9 11 13 15 17 19 21 23 25 27 29 "
          ]
        }
      ],
      "source": [
        "x = 0\n",
        "\n",
        "while x <= 30:\n",
        "    if x % 2 != 0:\n",
        "     print(x, end = ' ')\n",
        "    x +=1"
      ]
    },
    {
      "cell_type": "markdown",
      "metadata": {
        "id": "tFc5oclCfTJO"
      },
      "source": [
        "## Create Lists with the range() Function"
      ]
    },
    {
      "cell_type": "markdown",
      "metadata": {
        "id": "5LER9hq5fTJO"
      },
      "source": [
        "Use the range() function to create a list with all numbers from 1 to 10."
      ]
    },
    {
      "cell_type": "code",
      "execution_count": null,
      "metadata": {
        "id": "HWako7cdfTJO",
        "colab": {
          "base_uri": "https://localhost:8080/"
        },
        "outputId": "37d35207-2baa-43a3-dd0e-9a577fe5b963"
      },
      "outputs": [
        {
          "output_type": "execute_result",
          "data": {
            "text/plain": [
              "[1, 2, 3, 4, 5, 6, 7, 8, 9, 10]"
            ]
          },
          "metadata": {},
          "execution_count": 48
        }
      ],
      "source": [
        "new_list = list(range(1, 11))\n",
        "new_list"
      ]
    },
    {
      "cell_type": "markdown",
      "metadata": {
        "id": "gwL2ULokfTJO"
      },
      "source": [
        "## Conditional Statements, Functions, and Loops"
      ]
    },
    {
      "cell_type": "markdown",
      "metadata": {
        "id": "MI4fPIfofTJO"
      },
      "source": [
        "You are provided with the 'nums' list. Complete the code in the cell that follows. Use a while loop to count the number of values in a list that are lower than 20!\n"
      ]
    },
    {
      "cell_type": "code",
      "execution_count": null,
      "metadata": {
        "id": "SZAgShoUfTJO"
      },
      "outputs": [],
      "source": [
        "nums = [1,12,24,31,51,70,100,2,-10,0]"
      ]
    },
    {
      "cell_type": "code",
      "execution_count": null,
      "metadata": {
        "id": "R7EuGmiRfTJO",
        "colab": {
          "base_uri": "https://localhost:8080/"
        },
        "outputId": "38635d4b-c733-4ff9-c2f5-630e6cead019"
      },
      "outputs": [
        {
          "output_type": "stream",
          "name": "stdout",
          "text": [
            "5\n"
          ]
        }
      ],
      "source": [
        "count = 0\n",
        "i = 0\n",
        "\n",
        "while i < len(nums):\n",
        "    if nums[i] < 20:\n",
        "        count += 1\n",
        "    i += 1\n",
        "\n",
        "print(count)"
      ]
    },
    {
      "cell_type": "markdown",
      "source": [
        "ANOTHER HOMEWORK\n",
        "\n",
        "Write  code that creates 2 lists of integers(first list should contain 6 integers, the second list should contain 7 integers!)\n",
        "combine(concatenate) them and loops through each element of the list, and only prints out even numbers!\n",
        "even numbers example: 0 2 4 6 8\n",
        "odd numbers: 1 3 5 7"
      ],
      "metadata": {
        "id": "R82vI6Ujwd4N"
      }
    },
    {
      "cell_type": "code",
      "execution_count": 1,
      "metadata": {
        "id": "pfQbPsKKfTJO"
      },
      "outputs": [],
      "source": [
        "list1 = [7, 18, 35, 13, 11, 48]\n",
        "list2 = [8, 5, 12, 21, 20, 33, 41]\n",
        "\n",
        "list3 = list1 + list2"
      ]
    },
    {
      "cell_type": "code",
      "source": [
        "list3"
      ],
      "metadata": {
        "colab": {
          "base_uri": "https://localhost:8080/"
        },
        "id": "NmvpDmvm_FdD",
        "outputId": "47094f69-ec57-4ed2-8098-a4aa01a66ac1"
      },
      "execution_count": 2,
      "outputs": [
        {
          "output_type": "execute_result",
          "data": {
            "text/plain": [
              "[7, 18, 35, 13, 11, 48, 8, 5, 12, 21, 20, 33, 41]"
            ]
          },
          "metadata": {},
          "execution_count": 2
        }
      ]
    },
    {
      "cell_type": "code",
      "source": [
        "for x in list3:\n",
        "    if x % 2 == 0:\n",
        "        print(x, end=\" \")"
      ],
      "metadata": {
        "colab": {
          "base_uri": "https://localhost:8080/"
        },
        "id": "W1EMfALg_IDI",
        "outputId": "6edc8544-0b1d-4a7f-c824-7c21e036cd18"
      },
      "execution_count": 4,
      "outputs": [
        {
          "output_type": "stream",
          "name": "stdout",
          "text": [
            "18 48 8 12 20 "
          ]
        }
      ]
    }
  ],
  "metadata": {
    "anaconda-cloud": {},
    "kernelspec": {
      "display_name": "Python 3 (ipykernel)",
      "language": "python",
      "name": "python3"
    },
    "language_info": {
      "codemirror_mode": {
        "name": "ipython",
        "version": 3
      },
      "file_extension": ".py",
      "mimetype": "text/x-python",
      "name": "python",
      "nbconvert_exporter": "python",
      "pygments_lexer": "ipython3",
      "version": "3.11.3"
    },
    "colab": {
      "provenance": []
    }
  },
  "nbformat": 4,
  "nbformat_minor": 0
}